{
 "cells": [
  {
   "cell_type": "markdown",
   "metadata": {},
   "source": [
    "# Credit Card fraud detection\n",
    "\n",
    "This model is build using Neural Network (This is the first project on NN. Here I use very basic concepts on NN)"
   ]
  },
  {
   "cell_type": "code",
   "execution_count": 1,
   "metadata": {},
   "outputs": [
    {
     "name": "stderr",
     "output_type": "stream",
     "text": [
      "C:\\Anaconda3\\lib\\site-packages\\h5py\\__init__.py:36: FutureWarning: Conversion of the second argument of issubdtype from `float` to `np.floating` is deprecated. In future, it will be treated as `np.float64 == np.dtype(float).type`.\n",
      "  from ._conv import register_converters as _register_converters\n"
     ]
    }
   ],
   "source": [
    "import tensorflow as tf"
   ]
  },
  {
   "cell_type": "code",
   "execution_count": 2,
   "metadata": {},
   "outputs": [],
   "source": [
    "# necessary modules\n",
    "\n",
    "import numpy as np\n",
    "import pandas as pd\n",
    "from sklearn.preprocessing import StandardScaler\n",
    "from sklearn.metrics import precision_recall_fscore_support, accuracy_score"
   ]
  },
  {
   "cell_type": "code",
   "execution_count": 3,
   "metadata": {},
   "outputs": [],
   "source": [
    "# Preset to avoid randomisation\n",
    "\n",
    "np.random.seed(1)"
   ]
  },
  {
   "cell_type": "code",
   "execution_count": 4,
   "metadata": {},
   "outputs": [
    {
     "name": "stdout",
     "output_type": "stream",
     "text": [
      "Columns : ['Time', 'V1', 'V2', 'V3', 'V4', 'V5', 'V6', 'V7', 'V8', 'V9', 'V10', 'V11', 'V12', 'V13', 'V14', 'V15', 'V16', 'V17', 'V18', 'V19', 'V20', 'V21', 'V22', 'V23', 'V24', 'V25', 'V26', 'V27', 'V28', 'Amount', 'Class']\n",
      "Shape: (284807, 31)\n"
     ]
    }
   ],
   "source": [
    "dataset = pd.read_csv('../data/creditcard.csv')\n",
    "\n",
    "# Sanity check\n",
    "print ('Columns : {}\\nShape: {}'.format(list(dataset.columns), dataset.shape))"
   ]
  },
  {
   "cell_type": "code",
   "execution_count": 5,
   "metadata": {},
   "outputs": [
    {
     "data": {
      "text/html": [
       "<div>\n",
       "<style scoped>\n",
       "    .dataframe tbody tr th:only-of-type {\n",
       "        vertical-align: middle;\n",
       "    }\n",
       "\n",
       "    .dataframe tbody tr th {\n",
       "        vertical-align: top;\n",
       "    }\n",
       "\n",
       "    .dataframe thead th {\n",
       "        text-align: right;\n",
       "    }\n",
       "</style>\n",
       "<table border=\"1\" class=\"dataframe\">\n",
       "  <thead>\n",
       "    <tr style=\"text-align: right;\">\n",
       "      <th></th>\n",
       "      <th>V1</th>\n",
       "      <th>V2</th>\n",
       "      <th>V3</th>\n",
       "      <th>V4</th>\n",
       "      <th>V5</th>\n",
       "      <th>V6</th>\n",
       "      <th>V7</th>\n",
       "      <th>V8</th>\n",
       "      <th>V9</th>\n",
       "      <th>V10</th>\n",
       "      <th>...</th>\n",
       "      <th>V21</th>\n",
       "      <th>V22</th>\n",
       "      <th>V23</th>\n",
       "      <th>V24</th>\n",
       "      <th>V25</th>\n",
       "      <th>V26</th>\n",
       "      <th>V27</th>\n",
       "      <th>V28</th>\n",
       "      <th>Amount</th>\n",
       "      <th>Class</th>\n",
       "    </tr>\n",
       "  </thead>\n",
       "  <tbody>\n",
       "    <tr>\n",
       "      <th>0</th>\n",
       "      <td>-1.359807</td>\n",
       "      <td>-0.072781</td>\n",
       "      <td>2.536347</td>\n",
       "      <td>1.378155</td>\n",
       "      <td>-0.338321</td>\n",
       "      <td>0.462388</td>\n",
       "      <td>0.239599</td>\n",
       "      <td>0.098698</td>\n",
       "      <td>0.363787</td>\n",
       "      <td>0.090794</td>\n",
       "      <td>...</td>\n",
       "      <td>-0.018307</td>\n",
       "      <td>0.277838</td>\n",
       "      <td>-0.110474</td>\n",
       "      <td>0.066928</td>\n",
       "      <td>0.128539</td>\n",
       "      <td>-0.189115</td>\n",
       "      <td>0.133558</td>\n",
       "      <td>-0.021053</td>\n",
       "      <td>149.62</td>\n",
       "      <td>0</td>\n",
       "    </tr>\n",
       "    <tr>\n",
       "      <th>1</th>\n",
       "      <td>1.191857</td>\n",
       "      <td>0.266151</td>\n",
       "      <td>0.166480</td>\n",
       "      <td>0.448154</td>\n",
       "      <td>0.060018</td>\n",
       "      <td>-0.082361</td>\n",
       "      <td>-0.078803</td>\n",
       "      <td>0.085102</td>\n",
       "      <td>-0.255425</td>\n",
       "      <td>-0.166974</td>\n",
       "      <td>...</td>\n",
       "      <td>-0.225775</td>\n",
       "      <td>-0.638672</td>\n",
       "      <td>0.101288</td>\n",
       "      <td>-0.339846</td>\n",
       "      <td>0.167170</td>\n",
       "      <td>0.125895</td>\n",
       "      <td>-0.008983</td>\n",
       "      <td>0.014724</td>\n",
       "      <td>2.69</td>\n",
       "      <td>0</td>\n",
       "    </tr>\n",
       "    <tr>\n",
       "      <th>2</th>\n",
       "      <td>-1.358354</td>\n",
       "      <td>-1.340163</td>\n",
       "      <td>1.773209</td>\n",
       "      <td>0.379780</td>\n",
       "      <td>-0.503198</td>\n",
       "      <td>1.800499</td>\n",
       "      <td>0.791461</td>\n",
       "      <td>0.247676</td>\n",
       "      <td>-1.514654</td>\n",
       "      <td>0.207643</td>\n",
       "      <td>...</td>\n",
       "      <td>0.247998</td>\n",
       "      <td>0.771679</td>\n",
       "      <td>0.909412</td>\n",
       "      <td>-0.689281</td>\n",
       "      <td>-0.327642</td>\n",
       "      <td>-0.139097</td>\n",
       "      <td>-0.055353</td>\n",
       "      <td>-0.059752</td>\n",
       "      <td>378.66</td>\n",
       "      <td>0</td>\n",
       "    </tr>\n",
       "    <tr>\n",
       "      <th>3</th>\n",
       "      <td>-0.966272</td>\n",
       "      <td>-0.185226</td>\n",
       "      <td>1.792993</td>\n",
       "      <td>-0.863291</td>\n",
       "      <td>-0.010309</td>\n",
       "      <td>1.247203</td>\n",
       "      <td>0.237609</td>\n",
       "      <td>0.377436</td>\n",
       "      <td>-1.387024</td>\n",
       "      <td>-0.054952</td>\n",
       "      <td>...</td>\n",
       "      <td>-0.108300</td>\n",
       "      <td>0.005274</td>\n",
       "      <td>-0.190321</td>\n",
       "      <td>-1.175575</td>\n",
       "      <td>0.647376</td>\n",
       "      <td>-0.221929</td>\n",
       "      <td>0.062723</td>\n",
       "      <td>0.061458</td>\n",
       "      <td>123.50</td>\n",
       "      <td>0</td>\n",
       "    </tr>\n",
       "    <tr>\n",
       "      <th>4</th>\n",
       "      <td>-1.158233</td>\n",
       "      <td>0.877737</td>\n",
       "      <td>1.548718</td>\n",
       "      <td>0.403034</td>\n",
       "      <td>-0.407193</td>\n",
       "      <td>0.095921</td>\n",
       "      <td>0.592941</td>\n",
       "      <td>-0.270533</td>\n",
       "      <td>0.817739</td>\n",
       "      <td>0.753074</td>\n",
       "      <td>...</td>\n",
       "      <td>-0.009431</td>\n",
       "      <td>0.798278</td>\n",
       "      <td>-0.137458</td>\n",
       "      <td>0.141267</td>\n",
       "      <td>-0.206010</td>\n",
       "      <td>0.502292</td>\n",
       "      <td>0.219422</td>\n",
       "      <td>0.215153</td>\n",
       "      <td>69.99</td>\n",
       "      <td>0</td>\n",
       "    </tr>\n",
       "  </tbody>\n",
       "</table>\n",
       "<p>5 rows × 30 columns</p>\n",
       "</div>"
      ],
      "text/plain": [
       "         V1        V2        V3        V4        V5        V6        V7  \\\n",
       "0 -1.359807 -0.072781  2.536347  1.378155 -0.338321  0.462388  0.239599   \n",
       "1  1.191857  0.266151  0.166480  0.448154  0.060018 -0.082361 -0.078803   \n",
       "2 -1.358354 -1.340163  1.773209  0.379780 -0.503198  1.800499  0.791461   \n",
       "3 -0.966272 -0.185226  1.792993 -0.863291 -0.010309  1.247203  0.237609   \n",
       "4 -1.158233  0.877737  1.548718  0.403034 -0.407193  0.095921  0.592941   \n",
       "\n",
       "         V8        V9       V10  ...         V21       V22       V23  \\\n",
       "0  0.098698  0.363787  0.090794  ...   -0.018307  0.277838 -0.110474   \n",
       "1  0.085102 -0.255425 -0.166974  ...   -0.225775 -0.638672  0.101288   \n",
       "2  0.247676 -1.514654  0.207643  ...    0.247998  0.771679  0.909412   \n",
       "3  0.377436 -1.387024 -0.054952  ...   -0.108300  0.005274 -0.190321   \n",
       "4 -0.270533  0.817739  0.753074  ...   -0.009431  0.798278 -0.137458   \n",
       "\n",
       "        V24       V25       V26       V27       V28  Amount  Class  \n",
       "0  0.066928  0.128539 -0.189115  0.133558 -0.021053  149.62      0  \n",
       "1 -0.339846  0.167170  0.125895 -0.008983  0.014724    2.69      0  \n",
       "2 -0.689281 -0.327642 -0.139097 -0.055353 -0.059752  378.66      0  \n",
       "3 -1.175575  0.647376 -0.221929  0.062723  0.061458  123.50      0  \n",
       "4  0.141267 -0.206010  0.502292  0.219422  0.215153   69.99      0  \n",
       "\n",
       "[5 rows x 30 columns]"
      ]
     },
     "execution_count": 5,
     "metadata": {},
     "output_type": "execute_result"
    }
   ],
   "source": [
    "# dropping the time columns since we dont need it\n",
    "dataset = dataset.drop(labels=['Time'], axis=1)\n",
    "\n",
    "# Let's see how the dataset looks now\n",
    "dataset.head()"
   ]
  },
  {
   "cell_type": "code",
   "execution_count": 6,
   "metadata": {},
   "outputs": [
    {
     "name": "stdout",
     "output_type": "stream",
     "text": [
      "# Class 0 vs # Class 1: 284315 vs 492\n"
     ]
    }
   ],
   "source": [
    "# Let's figure out the dataset imbalance\n",
    "c1 = len(dataset.loc[dataset['Class']==1])\n",
    "c0 = len(dataset)-c1\n",
    "print ('# Class 0 vs # Class 1: {} vs {}'.format(c0,c1))"
   ]
  },
  {
   "cell_type": "markdown",
   "metadata": {},
   "source": [
    "So to make the dataset balanced we must multiply the Fraudulent class 577 times"
   ]
  },
  {
   "cell_type": "code",
   "execution_count": 9,
   "metadata": {},
   "outputs": [],
   "source": [
    "def balance_dataset(df):\n",
    "    \n",
    "    class1 = df.loc[df['Class']==1]\n",
    "    \n",
    "    for i in range(577):\n",
    "        df = pd.concat([df, class1])\n",
    "        \n",
    "    return df\n",
    "\n",
    "def train_test_split(df):\n",
    "    '''This function takes in the data-frame and splits the data into test and train'''\n",
    "    \n",
    "    data_class1 = df.loc[df.Class == 1] \n",
    "    data_class0 = df.loc[df.Class == 0]\n",
    "    \n",
    "    l1 = int(data_class1.shape[0]*.8)\n",
    "    l0 = int(data_class0.shape[0]*.8)\n",
    "    \n",
    "    train = pd.concat([data_class1[:l1], data_class0[:l0]]); train = train.sample(frac=1)\n",
    "    test = pd.concat([data_class1[l1:], data_class0[l0:]]); test = test.sample(frac=1)\n",
    "    \n",
    "    #y_train = train.Class; y_test = test.Class\n",
    "    #X_train = train.drop(labels=['Class'],axis=1)\n",
    "    #X_test = test.drop(labels=['Class'],axis=1)\n",
    "    \n",
    "    return (train, test)"
   ]
  },
  {
   "cell_type": "code",
   "execution_count": 10,
   "metadata": {},
   "outputs": [
    {
     "name": "stdout",
     "output_type": "stream",
     "text": [
      "SIZES\n",
      "Training data: 454606\tTraining label: 454606\n",
      "Test data: 114085\tTest label: 114085\n"
     ]
    }
   ],
   "source": [
    "# Let's prepare the data\n",
    "\n",
    "X_train, X_test = train_test_split(dataset)\n",
    "\n",
    "X_train = balance_dataset(X_train)\n",
    "X_test = balance_dataset(X_test)\n",
    "\n",
    "y_train = X_train['Class']; X_train = X_train.drop(labels=['Class'],axis=1)\n",
    "y_test = X_test['Class']; X_test = X_test.drop(labels=['Class'],axis=1)\n",
    "\n",
    "# Let's check the sizes\n",
    "print (\"SIZES\")\n",
    "print ('Training data: {}\\tTraining label: {}\\nTest data: {}\\tTest label: {}'\\\n",
    "      .format(X_train.shape[0], y_train.shape[0], X_test.shape[0], y_test.shape[0]))"
   ]
  },
  {
   "cell_type": "code",
   "execution_count": 11,
   "metadata": {},
   "outputs": [],
   "source": [
    "# Lets normalize the data\n",
    "\n",
    "X_train = StandardScaler().fit_transform(X_train)\n",
    "X_test = StandardScaler().fit_transform(X_test)\n",
    "\n",
    "y_train = np.array(y_train, dtype=np.float32)\n",
    "y_test = np.array(y_test, dtype=np.float32)"
   ]
  },
  {
   "cell_type": "markdown",
   "metadata": {},
   "source": [
    "# NN models\n",
    "---"
   ]
  },
  {
   "cell_type": "code",
   "execution_count": 16,
   "metadata": {},
   "outputs": [],
   "source": [
    "from keras.models import Sequential\n",
    "from keras.layers import Dense, Dropout\n",
    "from keras.optimizers import Adam"
   ]
  },
  {
   "cell_type": "markdown",
   "metadata": {},
   "source": [
    "## Baseline model"
   ]
  },
  {
   "cell_type": "code",
   "execution_count": 21,
   "metadata": {},
   "outputs": [],
   "source": [
    "def baseline_model():\n",
    "    '''This returns a baseline model without any dropouts or batch normalization'''\n",
    "   \n",
    "    # Parameters\n",
    "    hidden_unit1 = 18\n",
    "    hidden_unit2 = round(hidden_unit1*1.5)\n",
    "    hidden_unit3 = round(hidden_unit2*1.5)\n",
    "    ia = 'relu'; fa = 'sigmoid'; ini = 'he_normal'\n",
    "    optimizer = Adam(lr=3e-4, beta_1=0.9, beta_2=0.999, epsilon=1e-15, decay=0.0, amsgrad=False)\n",
    "    loss = 'binary_crossentropy'\n",
    "    metrics = ['acc']\n",
    "    \n",
    "    #Defining layers\n",
    "    model = Sequential()\n",
    "    model.add(Dense(hidden_unit1, input_dim=29, activation=ia, kernel_initializer=ini))\n",
    "    model.add(Dense(hidden_unit2, activation=ia, kernel_initializer=ini))\n",
    "    model.add(Dense(hidden_unit3, activation=ia, kernel_initializer=ini))\n",
    "    model.add(Dense(1, activation=fa,kernel_initializer=ini))\n",
    "    \n",
    "    #Compiling \n",
    "    model.compile(loss=loss, optimizer=optimizer,metrics=metrics)\n",
    "    return model"
   ]
  },
  {
   "cell_type": "code",
   "execution_count": 23,
   "metadata": {},
   "outputs": [
    {
     "name": "stdout",
     "output_type": "stream",
     "text": [
      "Epoch 1/10\n",
      "454606/454606 [==============================] - 2s 5us/step - loss: 0.3865 - acc: 0.8393\n",
      "Epoch 2/10\n",
      "454606/454606 [==============================] - 2s 3us/step - loss: 0.1765 - acc: 0.9377\n",
      "Epoch 3/10\n",
      "454606/454606 [==============================] - 2s 4us/step - loss: 0.1306 - acc: 0.9498\n",
      "Epoch 4/10\n",
      "454606/454606 [==============================] - 2s 3us/step - loss: 0.1101 - acc: 0.9616\n",
      "Epoch 5/10\n",
      "454606/454606 [==============================] - 2s 4us/step - loss: 0.0957 - acc: 0.9661\n",
      "Epoch 6/10\n",
      "454606/454606 [==============================] - 2s 4us/step - loss: 0.0836 - acc: 0.9690\n",
      "Epoch 7/10\n",
      "454606/454606 [==============================] - 2s 4us/step - loss: 0.0725 - acc: 0.9736\n",
      "Epoch 8/10\n",
      "454606/454606 [==============================] - 2s 4us/step - loss: 0.0619 - acc: 0.9794\n",
      "Epoch 9/10\n",
      "454606/454606 [==============================] - 2s 4us/step - loss: 0.0521 - acc: 0.9827\n",
      "Epoch 10/10\n",
      "454606/454606 [==============================] - 2s 3us/step - loss: 0.0435 - acc: 0.9868\n"
     ]
    },
    {
     "data": {
      "text/plain": [
       "<keras.callbacks.History at 0x1a4275617f0>"
      ]
     },
     "execution_count": 23,
     "metadata": {},
     "output_type": "execute_result"
    }
   ],
   "source": [
    "model = baseline_model()\n",
    "\n",
    "model.fit(X_train, y_train, epochs=10, batch_size=2048, verbose=1)"
   ]
  },
  {
   "cell_type": "code",
   "execution_count": 24,
   "metadata": {},
   "outputs": [
    {
     "data": {
      "text/plain": [
       "<keras.callbacks.History at 0x1a43c4aca90>"
      ]
     },
     "execution_count": 24,
     "metadata": {},
     "output_type": "execute_result"
    }
   ],
   "source": [
    "model.fit(X_train, y_train, epochs=2000, batch_size=2048, verbose=0)"
   ]
  },
  {
   "cell_type": "code",
   "execution_count": 27,
   "metadata": {},
   "outputs": [
    {
     "name": "stdout",
     "output_type": "stream",
     "text": [
      "454606/454606 [==============================] - 1s 1us/step\n",
      "114085/114085 [==============================] - 0s 2us/step\n",
      "Accuracy: \n",
      "On train data: 100.0%\tOn test data: 85.57%\n"
     ]
    }
   ],
   "source": [
    "train_performance = model.evaluate(X_train,y_train,batch_size=2048)\n",
    "test_performance = model.evaluate(X_test, y_test, batch_size=2048)\n",
    "\n",
    "print ('Accuracy: \\nOn train data: {}%\\tOn test data: {}%'\\\n",
    "       .format(round(train_performance[1]*100,2),round(test_performance[1]*100,2)))"
   ]
  },
  {
   "cell_type": "code",
   "execution_count": 35,
   "metadata": {},
   "outputs": [],
   "source": [
    "y_hat = model.predict_classes(X_test)\n",
    "y_hat = y_hat.reshape(y_hat.shape[0]*y_hat.shape[1])"
   ]
  },
  {
   "cell_type": "code",
   "execution_count": 39,
   "metadata": {},
   "outputs": [
    {
     "data": {
      "text/plain": [
       "(array([0.77757926, 0.99312715]),\n",
       " array([0.99500554, 0.71717172]),\n",
       " array([0.87295759, 0.83288683]),\n",
       " array([56863, 57222], dtype=int64))"
      ]
     },
     "execution_count": 39,
     "metadata": {},
     "output_type": "execute_result"
    }
   ],
   "source": [
    "precision_recall_fscore_support(np.array(y_test, dtype=np.int32), y_hat)"
   ]
  }
 ],
 "metadata": {
  "kernelspec": {
   "display_name": "Python 3",
   "language": "python",
   "name": "python3"
  },
  "language_info": {
   "codemirror_mode": {
    "name": "ipython",
    "version": 3
   },
   "file_extension": ".py",
   "mimetype": "text/x-python",
   "name": "python",
   "nbconvert_exporter": "python",
   "pygments_lexer": "ipython3",
   "version": "3.6.4"
  }
 },
 "nbformat": 4,
 "nbformat_minor": 2
}
