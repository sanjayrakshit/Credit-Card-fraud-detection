{
 "cells": [
  {
   "cell_type": "code",
   "execution_count": 20,
   "metadata": {},
   "outputs": [],
   "source": [
    "import pandas as pd\n",
    "import numpy as np\n",
    "import matplotlib.pyplot as plt\n",
    "import seaborn as sns\n",
    "sns.set()"
   ]
  },
  {
   "cell_type": "code",
   "execution_count": 2,
   "metadata": {
    "collapsed": true
   },
   "outputs": [],
   "source": [
    "data = pd.read_csv('../data/creditcard.csv')"
   ]
  },
  {
   "cell_type": "code",
   "execution_count": 5,
   "metadata": {},
   "outputs": [
    {
     "data": {
      "text/plain": [
       "(Index(['Time', 'V1', 'V2', 'V3', 'V4', 'V5', 'V6', 'V7', 'V8', 'V9', 'V10',\n",
       "        'V11', 'V12', 'V13', 'V14', 'V15', 'V16', 'V17', 'V18', 'V19', 'V20',\n",
       "        'V21', 'V22', 'V23', 'V24', 'V25', 'V26', 'V27', 'V28', 'Amount',\n",
       "        'Class'],\n",
       "       dtype='object'), (284807, 31))"
      ]
     },
     "execution_count": 5,
     "metadata": {},
     "output_type": "execute_result"
    }
   ],
   "source": [
    "data.columns, data.shape"
   ]
  },
  {
   "cell_type": "code",
   "execution_count": 6,
   "metadata": {},
   "outputs": [
    {
     "data": {
      "text/html": [
       "<div>\n",
       "<style>\n",
       "    .dataframe thead tr:only-child th {\n",
       "        text-align: right;\n",
       "    }\n",
       "\n",
       "    .dataframe thead th {\n",
       "        text-align: left;\n",
       "    }\n",
       "\n",
       "    .dataframe tbody tr th {\n",
       "        vertical-align: top;\n",
       "    }\n",
       "</style>\n",
       "<table border=\"1\" class=\"dataframe\">\n",
       "  <thead>\n",
       "    <tr style=\"text-align: right;\">\n",
       "      <th></th>\n",
       "      <th>Time</th>\n",
       "      <th>V1</th>\n",
       "      <th>V2</th>\n",
       "      <th>V3</th>\n",
       "      <th>V4</th>\n",
       "      <th>V5</th>\n",
       "      <th>V6</th>\n",
       "      <th>V7</th>\n",
       "      <th>V8</th>\n",
       "      <th>V9</th>\n",
       "      <th>...</th>\n",
       "      <th>V21</th>\n",
       "      <th>V22</th>\n",
       "      <th>V23</th>\n",
       "      <th>V24</th>\n",
       "      <th>V25</th>\n",
       "      <th>V26</th>\n",
       "      <th>V27</th>\n",
       "      <th>V28</th>\n",
       "      <th>Amount</th>\n",
       "      <th>Class</th>\n",
       "    </tr>\n",
       "  </thead>\n",
       "  <tbody>\n",
       "    <tr>\n",
       "      <th>20129</th>\n",
       "      <td>30801.0</td>\n",
       "      <td>-0.082221</td>\n",
       "      <td>0.552122</td>\n",
       "      <td>0.992445</td>\n",
       "      <td>0.699559</td>\n",
       "      <td>0.142957</td>\n",
       "      <td>0.242681</td>\n",
       "      <td>0.287352</td>\n",
       "      <td>0.162755</td>\n",
       "      <td>-0.735745</td>\n",
       "      <td>...</td>\n",
       "      <td>0.271741</td>\n",
       "      <td>0.794576</td>\n",
       "      <td>0.021622</td>\n",
       "      <td>-0.246787</td>\n",
       "      <td>-0.909798</td>\n",
       "      <td>0.698893</td>\n",
       "      <td>0.173472</td>\n",
       "      <td>0.177944</td>\n",
       "      <td>34.90</td>\n",
       "      <td>0</td>\n",
       "    </tr>\n",
       "    <tr>\n",
       "      <th>44384</th>\n",
       "      <td>41923.0</td>\n",
       "      <td>-1.075832</td>\n",
       "      <td>1.669017</td>\n",
       "      <td>1.359489</td>\n",
       "      <td>2.611637</td>\n",
       "      <td>0.007210</td>\n",
       "      <td>0.251294</td>\n",
       "      <td>0.075211</td>\n",
       "      <td>0.544285</td>\n",
       "      <td>-1.727528</td>\n",
       "      <td>...</td>\n",
       "      <td>-0.094098</td>\n",
       "      <td>-0.418010</td>\n",
       "      <td>0.137375</td>\n",
       "      <td>-0.029627</td>\n",
       "      <td>-0.360418</td>\n",
       "      <td>-0.057862</td>\n",
       "      <td>-0.031050</td>\n",
       "      <td>0.159386</td>\n",
       "      <td>2.65</td>\n",
       "      <td>0</td>\n",
       "    </tr>\n",
       "    <tr>\n",
       "      <th>10556</th>\n",
       "      <td>17482.0</td>\n",
       "      <td>-0.580267</td>\n",
       "      <td>0.983937</td>\n",
       "      <td>1.526568</td>\n",
       "      <td>1.203354</td>\n",
       "      <td>0.962154</td>\n",
       "      <td>1.997839</td>\n",
       "      <td>0.151589</td>\n",
       "      <td>0.630697</td>\n",
       "      <td>0.702159</td>\n",
       "      <td>...</td>\n",
       "      <td>-0.044963</td>\n",
       "      <td>0.586658</td>\n",
       "      <td>-0.072595</td>\n",
       "      <td>-1.051346</td>\n",
       "      <td>-0.384509</td>\n",
       "      <td>-0.180793</td>\n",
       "      <td>0.457190</td>\n",
       "      <td>0.176051</td>\n",
       "      <td>2.68</td>\n",
       "      <td>0</td>\n",
       "    </tr>\n",
       "  </tbody>\n",
       "</table>\n",
       "<p>3 rows × 31 columns</p>\n",
       "</div>"
      ],
      "text/plain": [
       "          Time        V1        V2        V3        V4        V5        V6  \\\n",
       "20129  30801.0 -0.082221  0.552122  0.992445  0.699559  0.142957  0.242681   \n",
       "44384  41923.0 -1.075832  1.669017  1.359489  2.611637  0.007210  0.251294   \n",
       "10556  17482.0 -0.580267  0.983937  1.526568  1.203354  0.962154  1.997839   \n",
       "\n",
       "             V7        V8        V9  ...         V21       V22       V23  \\\n",
       "20129  0.287352  0.162755 -0.735745  ...    0.271741  0.794576  0.021622   \n",
       "44384  0.075211  0.544285 -1.727528  ...   -0.094098 -0.418010  0.137375   \n",
       "10556  0.151589  0.630697  0.702159  ...   -0.044963  0.586658 -0.072595   \n",
       "\n",
       "            V24       V25       V26       V27       V28  Amount  Class  \n",
       "20129 -0.246787 -0.909798  0.698893  0.173472  0.177944   34.90      0  \n",
       "44384 -0.029627 -0.360418 -0.057862 -0.031050  0.159386    2.65      0  \n",
       "10556 -1.051346 -0.384509 -0.180793  0.457190  0.176051    2.68      0  \n",
       "\n",
       "[3 rows x 31 columns]"
      ]
     },
     "execution_count": 6,
     "metadata": {},
     "output_type": "execute_result"
    }
   ],
   "source": [
    "data.sample(n=3)"
   ]
  },
  {
   "cell_type": "code",
   "execution_count": 9,
   "metadata": {},
   "outputs": [
    {
     "data": {
      "text/plain": [
       "(0.0, 172792.0)"
      ]
     },
     "execution_count": 9,
     "metadata": {},
     "output_type": "execute_result"
    }
   ],
   "source": [
    "data.Time.min(), data.Time.max()"
   ]
  },
  {
   "cell_type": "code",
   "execution_count": 12,
   "metadata": {
    "scrolled": true
   },
   "outputs": [
    {
     "data": {
      "text/plain": [
       "Time      0\n",
       "V1        0\n",
       "V2        0\n",
       "V3        0\n",
       "V4        0\n",
       "V5        0\n",
       "V6        0\n",
       "V7        0\n",
       "V8        0\n",
       "V9        0\n",
       "V10       0\n",
       "V11       0\n",
       "V12       0\n",
       "V13       0\n",
       "V14       0\n",
       "V15       0\n",
       "V16       0\n",
       "V17       0\n",
       "V18       0\n",
       "V19       0\n",
       "V20       0\n",
       "V21       0\n",
       "V22       0\n",
       "V23       0\n",
       "V24       0\n",
       "V25       0\n",
       "V26       0\n",
       "V27       0\n",
       "V28       0\n",
       "Amount    0\n",
       "Class     0\n",
       "dtype: int64"
      ]
     },
     "execution_count": 12,
     "metadata": {},
     "output_type": "execute_result"
    }
   ],
   "source": [
    "data.isnull().sum()"
   ]
  },
  {
   "cell_type": "code",
   "execution_count": 15,
   "metadata": {
    "collapsed": true
   },
   "outputs": [],
   "source": [
    "data = data.sort_values(by='Time')"
   ]
  },
  {
   "cell_type": "code",
   "execution_count": 21,
   "metadata": {},
   "outputs": [],
   "source": [
    "tmp = np.array(data.Amount)\n",
    "\n",
    "from sklearn.preprocessing import StandardScaler\n",
    "\n",
    "tmp = StandardScaler().fit_transform(tmp.reshape(-1,1))"
   ]
  },
  {
   "cell_type": "code",
   "execution_count": 23,
   "metadata": {},
   "outputs": [],
   "source": [
    "data['Amount']=tmp"
   ]
  },
  {
   "cell_type": "code",
   "execution_count": null,
   "metadata": {},
   "outputs": [],
   "source": []
  }
 ],
 "metadata": {
  "kernelspec": {
   "display_name": "Python 3",
   "language": "python",
   "name": "python3"
  },
  "language_info": {
   "codemirror_mode": {
    "name": "ipython",
    "version": 3
   },
   "file_extension": ".py",
   "mimetype": "text/x-python",
   "name": "python",
   "nbconvert_exporter": "python",
   "pygments_lexer": "ipython3",
   "version": "3.6.2"
  }
 },
 "nbformat": 4,
 "nbformat_minor": 2
}
