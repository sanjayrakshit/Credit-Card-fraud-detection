{
 "cells": [
  {
   "cell_type": "code",
   "execution_count": 2,
   "metadata": {
    "collapsed": true
   },
   "outputs": [],
   "source": [
    "import pandas as pd\n",
    "import numpy as np\n",
    "import matplotlib.pyplot as plt\n",
    "import seaborn as sns\n",
    "#sns.set()"
   ]
  },
  {
   "cell_type": "code",
   "execution_count": 3,
   "metadata": {
    "collapsed": true
   },
   "outputs": [],
   "source": [
    "data = pd.read_csv('../data/creditcard.csv')"
   ]
  },
  {
   "cell_type": "code",
   "execution_count": 4,
   "metadata": {},
   "outputs": [
    {
     "data": {
      "text/plain": [
       "(Index(['Time', 'V1', 'V2', 'V3', 'V4', 'V5', 'V6', 'V7', 'V8', 'V9', 'V10',\n",
       "        'V11', 'V12', 'V13', 'V14', 'V15', 'V16', 'V17', 'V18', 'V19', 'V20',\n",
       "        'V21', 'V22', 'V23', 'V24', 'V25', 'V26', 'V27', 'V28', 'Amount',\n",
       "        'Class'],\n",
       "       dtype='object'), (284807, 31))"
      ]
     },
     "execution_count": 4,
     "metadata": {},
     "output_type": "execute_result"
    }
   ],
   "source": [
    "data.columns, data.shape"
   ]
  },
  {
   "cell_type": "code",
   "execution_count": 5,
   "metadata": {},
   "outputs": [
    {
     "data": {
      "text/html": [
       "<div>\n",
       "<style>\n",
       "    .dataframe thead tr:only-child th {\n",
       "        text-align: right;\n",
       "    }\n",
       "\n",
       "    .dataframe thead th {\n",
       "        text-align: left;\n",
       "    }\n",
       "\n",
       "    .dataframe tbody tr th {\n",
       "        vertical-align: top;\n",
       "    }\n",
       "</style>\n",
       "<table border=\"1\" class=\"dataframe\">\n",
       "  <thead>\n",
       "    <tr style=\"text-align: right;\">\n",
       "      <th></th>\n",
       "      <th>Time</th>\n",
       "      <th>V1</th>\n",
       "      <th>V2</th>\n",
       "      <th>V3</th>\n",
       "      <th>V4</th>\n",
       "      <th>V5</th>\n",
       "      <th>V6</th>\n",
       "      <th>V7</th>\n",
       "      <th>V8</th>\n",
       "      <th>V9</th>\n",
       "      <th>...</th>\n",
       "      <th>V21</th>\n",
       "      <th>V22</th>\n",
       "      <th>V23</th>\n",
       "      <th>V24</th>\n",
       "      <th>V25</th>\n",
       "      <th>V26</th>\n",
       "      <th>V27</th>\n",
       "      <th>V28</th>\n",
       "      <th>Amount</th>\n",
       "      <th>Class</th>\n",
       "    </tr>\n",
       "  </thead>\n",
       "  <tbody>\n",
       "    <tr>\n",
       "      <th>104195</th>\n",
       "      <td>68954.0</td>\n",
       "      <td>-6.042554</td>\n",
       "      <td>-2.932829</td>\n",
       "      <td>-1.731639</td>\n",
       "      <td>0.819556</td>\n",
       "      <td>-3.739305</td>\n",
       "      <td>0.749520</td>\n",
       "      <td>1.590759</td>\n",
       "      <td>-1.954896</td>\n",
       "      <td>-1.046441</td>\n",
       "      <td>...</td>\n",
       "      <td>0.318915</td>\n",
       "      <td>-1.288651</td>\n",
       "      <td>-3.142770</td>\n",
       "      <td>1.046294</td>\n",
       "      <td>-0.490361</td>\n",
       "      <td>1.216067</td>\n",
       "      <td>1.027895</td>\n",
       "      <td>-2.186144</td>\n",
       "      <td>833.47</td>\n",
       "      <td>0</td>\n",
       "    </tr>\n",
       "    <tr>\n",
       "      <th>61532</th>\n",
       "      <td>49880.0</td>\n",
       "      <td>-0.943412</td>\n",
       "      <td>-0.184294</td>\n",
       "      <td>2.351897</td>\n",
       "      <td>1.679541</td>\n",
       "      <td>-1.511812</td>\n",
       "      <td>1.791964</td>\n",
       "      <td>-0.159065</td>\n",
       "      <td>0.671600</td>\n",
       "      <td>1.222904</td>\n",
       "      <td>...</td>\n",
       "      <td>0.082139</td>\n",
       "      <td>0.788482</td>\n",
       "      <td>0.144127</td>\n",
       "      <td>0.028934</td>\n",
       "      <td>-0.535288</td>\n",
       "      <td>-0.163712</td>\n",
       "      <td>0.460087</td>\n",
       "      <td>0.220483</td>\n",
       "      <td>191.48</td>\n",
       "      <td>0</td>\n",
       "    </tr>\n",
       "    <tr>\n",
       "      <th>21615</th>\n",
       "      <td>31767.0</td>\n",
       "      <td>-1.139164</td>\n",
       "      <td>1.132194</td>\n",
       "      <td>1.514213</td>\n",
       "      <td>-1.178960</td>\n",
       "      <td>-0.543484</td>\n",
       "      <td>-0.944796</td>\n",
       "      <td>0.231654</td>\n",
       "      <td>0.411327</td>\n",
       "      <td>-0.248846</td>\n",
       "      <td>...</td>\n",
       "      <td>0.045632</td>\n",
       "      <td>0.065280</td>\n",
       "      <td>0.081683</td>\n",
       "      <td>0.655150</td>\n",
       "      <td>-0.452448</td>\n",
       "      <td>0.703637</td>\n",
       "      <td>0.019069</td>\n",
       "      <td>0.111934</td>\n",
       "      <td>1.79</td>\n",
       "      <td>0</td>\n",
       "    </tr>\n",
       "  </tbody>\n",
       "</table>\n",
       "<p>3 rows × 31 columns</p>\n",
       "</div>"
      ],
      "text/plain": [
       "           Time        V1        V2        V3        V4        V5        V6  \\\n",
       "104195  68954.0 -6.042554 -2.932829 -1.731639  0.819556 -3.739305  0.749520   \n",
       "61532   49880.0 -0.943412 -0.184294  2.351897  1.679541 -1.511812  1.791964   \n",
       "21615   31767.0 -1.139164  1.132194  1.514213 -1.178960 -0.543484 -0.944796   \n",
       "\n",
       "              V7        V8        V9  ...         V21       V22       V23  \\\n",
       "104195  1.590759 -1.954896 -1.046441  ...    0.318915 -1.288651 -3.142770   \n",
       "61532  -0.159065  0.671600  1.222904  ...    0.082139  0.788482  0.144127   \n",
       "21615   0.231654  0.411327 -0.248846  ...    0.045632  0.065280  0.081683   \n",
       "\n",
       "             V24       V25       V26       V27       V28  Amount  Class  \n",
       "104195  1.046294 -0.490361  1.216067  1.027895 -2.186144  833.47      0  \n",
       "61532   0.028934 -0.535288 -0.163712  0.460087  0.220483  191.48      0  \n",
       "21615   0.655150 -0.452448  0.703637  0.019069  0.111934    1.79      0  \n",
       "\n",
       "[3 rows x 31 columns]"
      ]
     },
     "execution_count": 5,
     "metadata": {},
     "output_type": "execute_result"
    }
   ],
   "source": [
    "data.sample(n=3)"
   ]
  },
  {
   "cell_type": "code",
   "execution_count": 6,
   "metadata": {},
   "outputs": [
    {
     "data": {
      "text/plain": [
       "(0.0, 172792.0)"
      ]
     },
     "execution_count": 6,
     "metadata": {},
     "output_type": "execute_result"
    }
   ],
   "source": [
    "data.Time.min(), data.Time.max()"
   ]
  },
  {
   "cell_type": "code",
   "execution_count": 7,
   "metadata": {
    "scrolled": true
   },
   "outputs": [
    {
     "data": {
      "text/plain": [
       "Time      0\n",
       "V1        0\n",
       "V2        0\n",
       "V3        0\n",
       "V4        0\n",
       "V5        0\n",
       "V6        0\n",
       "V7        0\n",
       "V8        0\n",
       "V9        0\n",
       "V10       0\n",
       "V11       0\n",
       "V12       0\n",
       "V13       0\n",
       "V14       0\n",
       "V15       0\n",
       "V16       0\n",
       "V17       0\n",
       "V18       0\n",
       "V19       0\n",
       "V20       0\n",
       "V21       0\n",
       "V22       0\n",
       "V23       0\n",
       "V24       0\n",
       "V25       0\n",
       "V26       0\n",
       "V27       0\n",
       "V28       0\n",
       "Amount    0\n",
       "Class     0\n",
       "dtype: int64"
      ]
     },
     "execution_count": 7,
     "metadata": {},
     "output_type": "execute_result"
    }
   ],
   "source": [
    "data.isnull().sum()"
   ]
  },
  {
   "cell_type": "code",
   "execution_count": 8,
   "metadata": {
    "collapsed": true
   },
   "outputs": [],
   "source": [
    "data = data.sort_values(by='Time')"
   ]
  },
  {
   "cell_type": "code",
   "execution_count": 9,
   "metadata": {
    "collapsed": true
   },
   "outputs": [],
   "source": [
    "tmp = np.array(data.Amount)\n",
    "\n",
    "from sklearn.preprocessing import StandardScaler\n",
    "\n",
    "tmp = StandardScaler().fit_transform(tmp.reshape(-1,1))"
   ]
  },
  {
   "cell_type": "code",
   "execution_count": 10,
   "metadata": {
    "collapsed": true
   },
   "outputs": [],
   "source": [
    "data['Amount']=tmp"
   ]
  },
  {
   "cell_type": "code",
   "execution_count": 11,
   "metadata": {},
   "outputs": [
    {
     "data": {
      "text/html": [
       "<div>\n",
       "<style>\n",
       "    .dataframe thead tr:only-child th {\n",
       "        text-align: right;\n",
       "    }\n",
       "\n",
       "    .dataframe thead th {\n",
       "        text-align: left;\n",
       "    }\n",
       "\n",
       "    .dataframe tbody tr th {\n",
       "        vertical-align: top;\n",
       "    }\n",
       "</style>\n",
       "<table border=\"1\" class=\"dataframe\">\n",
       "  <thead>\n",
       "    <tr style=\"text-align: right;\">\n",
       "      <th></th>\n",
       "      <th>Time</th>\n",
       "      <th>V1</th>\n",
       "      <th>V2</th>\n",
       "      <th>V3</th>\n",
       "      <th>V4</th>\n",
       "      <th>V5</th>\n",
       "      <th>V6</th>\n",
       "      <th>V7</th>\n",
       "      <th>V8</th>\n",
       "      <th>V9</th>\n",
       "      <th>...</th>\n",
       "      <th>V21</th>\n",
       "      <th>V22</th>\n",
       "      <th>V23</th>\n",
       "      <th>V24</th>\n",
       "      <th>V25</th>\n",
       "      <th>V26</th>\n",
       "      <th>V27</th>\n",
       "      <th>V28</th>\n",
       "      <th>Amount</th>\n",
       "      <th>Class</th>\n",
       "    </tr>\n",
       "  </thead>\n",
       "  <tbody>\n",
       "    <tr>\n",
       "      <th>0</th>\n",
       "      <td>0.0</td>\n",
       "      <td>-1.359807</td>\n",
       "      <td>-0.072781</td>\n",
       "      <td>2.536347</td>\n",
       "      <td>1.378155</td>\n",
       "      <td>-0.338321</td>\n",
       "      <td>0.462388</td>\n",
       "      <td>0.239599</td>\n",
       "      <td>0.098698</td>\n",
       "      <td>0.363787</td>\n",
       "      <td>...</td>\n",
       "      <td>-0.018307</td>\n",
       "      <td>0.277838</td>\n",
       "      <td>-0.110474</td>\n",
       "      <td>0.066928</td>\n",
       "      <td>0.128539</td>\n",
       "      <td>-0.189115</td>\n",
       "      <td>0.133558</td>\n",
       "      <td>-0.021053</td>\n",
       "      <td>0.244964</td>\n",
       "      <td>0</td>\n",
       "    </tr>\n",
       "    <tr>\n",
       "      <th>1</th>\n",
       "      <td>0.0</td>\n",
       "      <td>1.191857</td>\n",
       "      <td>0.266151</td>\n",
       "      <td>0.166480</td>\n",
       "      <td>0.448154</td>\n",
       "      <td>0.060018</td>\n",
       "      <td>-0.082361</td>\n",
       "      <td>-0.078803</td>\n",
       "      <td>0.085102</td>\n",
       "      <td>-0.255425</td>\n",
       "      <td>...</td>\n",
       "      <td>-0.225775</td>\n",
       "      <td>-0.638672</td>\n",
       "      <td>0.101288</td>\n",
       "      <td>-0.339846</td>\n",
       "      <td>0.167170</td>\n",
       "      <td>0.125895</td>\n",
       "      <td>-0.008983</td>\n",
       "      <td>0.014724</td>\n",
       "      <td>-0.342475</td>\n",
       "      <td>0</td>\n",
       "    </tr>\n",
       "    <tr>\n",
       "      <th>2</th>\n",
       "      <td>1.0</td>\n",
       "      <td>-1.358354</td>\n",
       "      <td>-1.340163</td>\n",
       "      <td>1.773209</td>\n",
       "      <td>0.379780</td>\n",
       "      <td>-0.503198</td>\n",
       "      <td>1.800499</td>\n",
       "      <td>0.791461</td>\n",
       "      <td>0.247676</td>\n",
       "      <td>-1.514654</td>\n",
       "      <td>...</td>\n",
       "      <td>0.247998</td>\n",
       "      <td>0.771679</td>\n",
       "      <td>0.909412</td>\n",
       "      <td>-0.689281</td>\n",
       "      <td>-0.327642</td>\n",
       "      <td>-0.139097</td>\n",
       "      <td>-0.055353</td>\n",
       "      <td>-0.059752</td>\n",
       "      <td>1.160686</td>\n",
       "      <td>0</td>\n",
       "    </tr>\n",
       "    <tr>\n",
       "      <th>3</th>\n",
       "      <td>1.0</td>\n",
       "      <td>-0.966272</td>\n",
       "      <td>-0.185226</td>\n",
       "      <td>1.792993</td>\n",
       "      <td>-0.863291</td>\n",
       "      <td>-0.010309</td>\n",
       "      <td>1.247203</td>\n",
       "      <td>0.237609</td>\n",
       "      <td>0.377436</td>\n",
       "      <td>-1.387024</td>\n",
       "      <td>...</td>\n",
       "      <td>-0.108300</td>\n",
       "      <td>0.005274</td>\n",
       "      <td>-0.190321</td>\n",
       "      <td>-1.175575</td>\n",
       "      <td>0.647376</td>\n",
       "      <td>-0.221929</td>\n",
       "      <td>0.062723</td>\n",
       "      <td>0.061458</td>\n",
       "      <td>0.140534</td>\n",
       "      <td>0</td>\n",
       "    </tr>\n",
       "    <tr>\n",
       "      <th>4</th>\n",
       "      <td>2.0</td>\n",
       "      <td>-1.158233</td>\n",
       "      <td>0.877737</td>\n",
       "      <td>1.548718</td>\n",
       "      <td>0.403034</td>\n",
       "      <td>-0.407193</td>\n",
       "      <td>0.095921</td>\n",
       "      <td>0.592941</td>\n",
       "      <td>-0.270533</td>\n",
       "      <td>0.817739</td>\n",
       "      <td>...</td>\n",
       "      <td>-0.009431</td>\n",
       "      <td>0.798278</td>\n",
       "      <td>-0.137458</td>\n",
       "      <td>0.141267</td>\n",
       "      <td>-0.206010</td>\n",
       "      <td>0.502292</td>\n",
       "      <td>0.219422</td>\n",
       "      <td>0.215153</td>\n",
       "      <td>-0.073403</td>\n",
       "      <td>0</td>\n",
       "    </tr>\n",
       "  </tbody>\n",
       "</table>\n",
       "<p>5 rows × 31 columns</p>\n",
       "</div>"
      ],
      "text/plain": [
       "   Time        V1        V2        V3        V4        V5        V6        V7  \\\n",
       "0   0.0 -1.359807 -0.072781  2.536347  1.378155 -0.338321  0.462388  0.239599   \n",
       "1   0.0  1.191857  0.266151  0.166480  0.448154  0.060018 -0.082361 -0.078803   \n",
       "2   1.0 -1.358354 -1.340163  1.773209  0.379780 -0.503198  1.800499  0.791461   \n",
       "3   1.0 -0.966272 -0.185226  1.792993 -0.863291 -0.010309  1.247203  0.237609   \n",
       "4   2.0 -1.158233  0.877737  1.548718  0.403034 -0.407193  0.095921  0.592941   \n",
       "\n",
       "         V8        V9  ...         V21       V22       V23       V24  \\\n",
       "0  0.098698  0.363787  ...   -0.018307  0.277838 -0.110474  0.066928   \n",
       "1  0.085102 -0.255425  ...   -0.225775 -0.638672  0.101288 -0.339846   \n",
       "2  0.247676 -1.514654  ...    0.247998  0.771679  0.909412 -0.689281   \n",
       "3  0.377436 -1.387024  ...   -0.108300  0.005274 -0.190321 -1.175575   \n",
       "4 -0.270533  0.817739  ...   -0.009431  0.798278 -0.137458  0.141267   \n",
       "\n",
       "        V25       V26       V27       V28    Amount  Class  \n",
       "0  0.128539 -0.189115  0.133558 -0.021053  0.244964      0  \n",
       "1  0.167170  0.125895 -0.008983  0.014724 -0.342475      0  \n",
       "2 -0.327642 -0.139097 -0.055353 -0.059752  1.160686      0  \n",
       "3  0.647376 -0.221929  0.062723  0.061458  0.140534      0  \n",
       "4 -0.206010  0.502292  0.219422  0.215153 -0.073403      0  \n",
       "\n",
       "[5 rows x 31 columns]"
      ]
     },
     "execution_count": 11,
     "metadata": {},
     "output_type": "execute_result"
    }
   ],
   "source": [
    "data.head()"
   ]
  },
  {
   "cell_type": "code",
   "execution_count": 12,
   "metadata": {
    "collapsed": true
   },
   "outputs": [],
   "source": [
    "l = int(data.shape[0]*0.8)\n",
    "\n",
    "train_data = data[:l]\n",
    "test_data = data[l:]"
   ]
  },
  {
   "cell_type": "code",
   "execution_count": 13,
   "metadata": {},
   "outputs": [
    {
     "data": {
      "text/plain": [
       "((227845, 31), (56962, 31))"
      ]
     },
     "execution_count": 13,
     "metadata": {},
     "output_type": "execute_result"
    }
   ],
   "source": [
    "train_data.shape, test_data.shape"
   ]
  },
  {
   "cell_type": "code",
   "execution_count": 14,
   "metadata": {},
   "outputs": [
    {
     "data": {
      "image/png": "[encoded data removed]",
      "text/plain": [
       "<matplotlib.figure.Figure at 0x1fa8034b908>"
      ]
     },
     "metadata": {},
     "output_type": "display_data"
    }
   ],
   "source": [
    "plt.figure(figsize=(12,6))\n",
    "\n",
    "plt.subplot(1,2,1)\n",
    "plt.hist(train_data.Class,normed=True,bins=[0,1,2],rwidth=0.9)\n",
    "plt.xticks([0.5,1.5],[0,1])\n",
    "\n",
    "plt.subplot(1,2,2)\n",
    "plt.hist(test_data.Class,normed=True,bins=[0,1,2],rwidth=0.9)\n",
    "plt.xticks([0.5,1.5],[0,1])\n",
    "\n",
    "plt.show()"
   ]
  },
  {
   "cell_type": "code",
   "execution_count": 15,
   "metadata": {},
   "outputs": [
    {
     "data": {
      "text/plain": [
       "count    227845.000000\n",
       "mean          0.001830\n",
       "std           0.042742\n",
       "min           0.000000\n",
       "25%           0.000000\n",
       "50%           0.000000\n",
       "75%           0.000000\n",
       "max           1.000000\n",
       "Name: Class, dtype: float64"
      ]
     },
     "execution_count": 15,
     "metadata": {},
     "output_type": "execute_result"
    }
   ],
   "source": [
    "train_data.Class.describe()"
   ]
  },
  {
   "cell_type": "code",
   "execution_count": 16,
   "metadata": {},
   "outputs": [
    {
     "data": {
      "text/plain": [
       "count    56962.000000\n",
       "mean         0.001317\n",
       "std          0.036262\n",
       "min          0.000000\n",
       "25%          0.000000\n",
       "50%          0.000000\n",
       "75%          0.000000\n",
       "max          1.000000\n",
       "Name: Class, dtype: float64"
      ]
     },
     "execution_count": 16,
     "metadata": {},
     "output_type": "execute_result"
    }
   ],
   "source": [
    "test_data.Class.describe()"
   ]
  },
  {
   "cell_type": "code",
   "execution_count": 17,
   "metadata": {},
   "outputs": [
    {
     "name": "stdout",
     "output_type": "stream",
     "text": [
      "TRAIN DATA: \n",
      "0    227428\n",
      "1       417\n",
      "Name: Class, dtype: int64\n",
      "\n",
      "TEST DATA: \n",
      "0    56887\n",
      "1       75\n",
      "Name: Class, dtype: int64\n"
     ]
    }
   ],
   "source": [
    "print ('TRAIN DATA: \\n{}\\n\\nTEST DATA: \\n{}'.format(train_data.Class.value_counts(), test_data.Class.value_counts()))"
   ]
  },
  {
   "cell_type": "code",
   "execution_count": 18,
   "metadata": {},
   "outputs": [
    {
     "name": "stdout",
     "output_type": "stream",
     "text": [
      "Almost same % of Class 1 in train and test data:\n",
      "\n",
      "0.001830191577607584\n",
      "0.001316667251852112\n"
     ]
    }
   ],
   "source": [
    "print ('Almost same % of Class 1 in train and test data:\\n\\n{}\\n{}' .format(417/227845,  75/56962))"
   ]
  },
  {
   "cell_type": "code",
   "execution_count": 19,
   "metadata": {},
   "outputs": [
    {
     "data": {
      "image/png": "[encoded data removed]",
      "text/plain": [
       "<matplotlib.figure.Figure at 0x1fa8034b278>"
      ]
     },
     "metadata": {},
     "output_type": "display_data"
    }
   ],
   "source": [
    "plt.figure(figsize=(12,6))\n",
    "sns.distplot(train_data.Amount,color='r')\n",
    "sns.distplot(test_data.Amount,color='b')\n",
    "plt.xlim(-1,4)\n",
    "plt.show()"
   ]
  },
  {
   "cell_type": "code",
   "execution_count": 33,
   "metadata": {},
   "outputs": [
    {
     "data": {
      "image/png": "[encoded data removed]",
      "text/plain": [
       "<matplotlib.figure.Figure at 0x1fa8008e5f8>"
      ]
     },
     "metadata": {},
     "output_type": "display_data"
    }
   ],
   "source": [
    "plt.figure(figsize=(16,10))\n",
    "\n",
    "plt.subplot(2,1,1)\n",
    "sns.distplot(train_data[train_data.Class == 1].Amount,color='b')\n",
    "sns.distplot(train_data[train_data.Class == 0].Amount, color='r')\n",
    "plt.xlim(-1,10)\n",
    "\n",
    "plt.subplot(2,1,2)\n",
    "sns.distplot(test_data[test_data.Class == 1].Amount,color='b')\n",
    "sns.distplot(test_data[test_data.Class == 0].Amount, color='r')\n",
    "plt.xlim(-1,10)\n",
    "\n",
    "plt.show()"
   ]
  },
  {
   "cell_type": "code",
   "execution_count": 21,
   "metadata": {
    "collapsed": true
   },
   "outputs": [],
   "source": [
    "train_data = train_data.drop(labels=['Time'],axis=1)\n",
    "\n",
    "test_data = test_data.drop(labels=['Time'],axis=1)"
   ]
  },
  {
   "cell_type": "code",
   "execution_count": 35,
   "metadata": {},
   "outputs": [
    {
     "ename": "NameError",
     "evalue": "name 'anon' is not defined",
     "output_type": "error",
     "traceback": [
      "\u001b[1;31m---------------------------------------------------------------------------\u001b[0m",
      "\u001b[1;31mNameError\u001b[0m                                 Traceback (most recent call last)",
      "\u001b[1;32m<ipython-input-35-a7d5e912311e>\u001b[0m in \u001b[0;36m<module>\u001b[1;34m()\u001b[0m\n\u001b[0;32m      1\u001b[0m \u001b[0mtrain_data\u001b[0m\u001b[1;33m.\u001b[0m\u001b[0mcolumns\u001b[0m\u001b[1;33m\u001b[0m\u001b[0m\n\u001b[1;32m----> 2\u001b[1;33m \u001b[0manon\u001b[0m\u001b[1;33m\u001b[0m\u001b[0m\n\u001b[0m",
      "\u001b[1;31mNameError\u001b[0m: name 'anon' is not defined"
     ]
    }
   ],
   "source": [
    "train_data.columns\n",
    "anon_features = train_data.ix[]"
   ]
  },
  {
   "cell_type": "code",
   "execution_count": 22,
   "metadata": {
    "collapsed": true
   },
   "outputs": [],
   "source": [
    "from sklearn.linear_model import LogisticRegression\n",
    "from sklearn.metrics import precision_recall_fscore_support, roc_auc_score"
   ]
  },
  {
   "cell_type": "code",
   "execution_count": 23,
   "metadata": {},
   "outputs": [
    {
     "name": "stdout",
     "output_type": "stream",
     "text": [
      "[LibLinear]"
     ]
    }
   ],
   "source": [
    "# Building model blindfolded\n",
    "lr = LogisticRegression(C=0.01,class_weight='balanced',verbose=1,penalty='l2')\n",
    "lr.fit(train_data.drop(labels=['Class'],axis=1),train_data.Class)\n",
    "y_pred = lr.predict(test_data.drop(labels=['Class'],axis=1))"
   ]
  },
  {
   "cell_type": "code",
   "execution_count": 24,
   "metadata": {
    "scrolled": true
   },
   "outputs": [
    {
     "name": "stdout",
     "output_type": "stream",
     "text": [
      "Precision: [ 0.99987363  0.04333971]\n",
      "Recall: [ 0.97361436  0.90666667]\n",
      "AUROC:  0.940140512478\n"
     ]
    }
   ],
   "source": [
    "prec_rec = precision_recall_fscore_support(test_data.Class,y_pred) \n",
    "print ('Precision: {}\\nRecall: {}'.format(prec_rec[0],prec_rec[1]))\n",
    "print ('AUROC: ',roc_auc_score(test_data.Class,y_pred))"
   ]
  },
  {
   "cell_type": "code",
   "execution_count": 25,
   "metadata": {
    "collapsed": true
   },
   "outputs": [],
   "source": [
    "probabilty = lr.predict_proba(test_data.drop(labels=['Class'],axis=1))"
   ]
  },
  {
   "cell_type": "code",
   "execution_count": 26,
   "metadata": {},
   "outputs": [
    {
     "data": {
      "text/plain": [
       "array([[  9.38908778e-01,   6.10912220e-02],\n",
       "       [  9.15102750e-01,   8.48972505e-02],\n",
       "       [  9.99142365e-01,   8.57635017e-04],\n",
       "       ..., \n",
       "       [  9.17081727e-01,   8.29182730e-02],\n",
       "       [  9.72757878e-01,   2.72421219e-02],\n",
       "       [  9.06997017e-01,   9.30029830e-02]])"
      ]
     },
     "execution_count": 26,
     "metadata": {},
     "output_type": "execute_result"
    }
   ],
   "source": [
    "probabilty"
   ]
  },
  {
   "cell_type": "code",
   "execution_count": null,
   "metadata": {
    "collapsed": true
   },
   "outputs": [],
   "source": []
  },
  {
   "cell_type": "code",
   "execution_count": 27,
   "metadata": {
    "scrolled": true
   },
   "outputs": [
    {
     "name": "stderr",
     "output_type": "stream",
     "text": [
      "C:\\Anaconda3\\lib\\site-packages\\sklearn\\metrics\\classification.py:1135: UndefinedMetricWarning: Precision and F-score are ill-defined and being set to 0.0 in labels with no predicted samples.\n",
      "  'precision', 'predicted', average, warn_for)\n"
     ]
    },
    {
     "name": "stdout",
     "output_type": "stream",
     "text": [
      "Threshold:  0.0\n",
      "Precision: [ 0.          0.00131667]\n",
      "Recall: [ 0.  1.]\n",
      "AUROC:  0.5\n",
      "--------------------------\n",
      "Threshold:  0.1\n",
      "Precision: [ 0.99997768  0.00608203]\n",
      "Recall: [ 0.78742068  0.98666667]\n",
      "AUROC:  0.887043671372\n",
      "--------------------------\n",
      "Threshold:  0.2\n",
      "Precision: [ 0.99990151  0.01130308]\n",
      "Recall: [ 0.89236557  0.93333333]\n",
      "AUROC:  0.912849450079\n",
      "--------------------------\n",
      "Threshold:  0.3\n",
      "Precision: [ 0.99990622  0.01920439]\n",
      "Recall: [ 0.93715612  0.93333333]\n",
      "AUROC:  0.935244724923\n",
      "--------------------------\n",
      "Threshold:  0.4\n",
      "Precision: [ 0.99989025  0.03010471]\n",
      "Recall: [ 0.96092253  0.92      ]\n",
      "AUROC:  0.940461265315\n",
      "--------------------------\n",
      "Threshold:  0.5\n",
      "Precision: [ 0.99987363  0.04333971]\n",
      "Recall: [ 0.97361436  0.90666667]\n",
      "AUROC:  0.940140512478\n",
      "--------------------------\n",
      "Threshold:  0.6\n",
      "Precision: [ 0.99983916  0.06560636]\n",
      "Recall: [ 0.98347601  0.88      ]\n",
      "AUROC:  0.931738006926\n",
      "--------------------------\n",
      "Threshold:  0.7\n",
      "Precision: [ 0.9998226  0.1097973]\n",
      "Recall: [ 0.99073602  0.86666667]\n",
      "AUROC:  0.928701343599\n",
      "--------------------------\n",
      "Threshold:  0.8\n",
      "Precision: [ 0.99980561  0.17021277]\n",
      "Recall: [ 0.99451544  0.85333333]\n",
      "AUROC:  0.923924388114\n",
      "--------------------------\n",
      "Threshold:  0.9\n",
      "Precision: [ 0.99980612  0.28193833]\n",
      "Recall: [ 0.99713467  0.85333333]\n",
      "AUROC:  0.92523400191\n",
      "--------------------------\n",
      "Threshold:  1.0\n",
      "Precision: [ 0.99868331  0.        ]\n",
      "Recall: [ 0.99998242  0.        ]\n",
      "AUROC:  0.499991210646\n",
      "--------------------------\n"
     ]
    }
   ],
   "source": [
    "import numpy\n",
    "rnge = numpy.arange(0,1.1,0.1)\n",
    "for i in rnge:\n",
    "    res = []\n",
    "    for j in range(probabilty.shape[0]):\n",
    "        if(probabilty[j][1]>=i):\n",
    "            res.append(1)\n",
    "        else:\n",
    "            res.append(0)\n",
    "    \n",
    "    prec_rec = precision_recall_fscore_support(test_data.Class.tolist(),res) \n",
    "    print ('Threshold: ',i)\n",
    "    print ('Precision: {}\\nRecall: {}'.format(prec_rec[0],prec_rec[1]))\n",
    "    print ('AUROC: ',roc_auc_score(test_data.Class.tolist(),res))\n",
    "    print ('--------------------------')"
   ]
  },
  {
   "cell_type": "code",
   "execution_count": 28,
   "metadata": {
    "scrolled": true
   },
   "outputs": [
    {
     "name": "stdout",
     "output_type": "stream",
     "text": [
      "Threshold:  0.9\n",
      "Precision: [ 0.99980612  0.28193833]\n",
      "Recall: [ 0.99713467  0.85333333]\n",
      "AUROC:  0.92523400191\n",
      "--------------------------\n",
      "Threshold:  0.91\n",
      "Precision: [ 0.99977096  0.30392157]\n",
      "Recall: [ 0.99750382  0.82666667]\n",
      "AUROC:  0.912085245018\n",
      "--------------------------\n",
      "Threshold:  0.92\n",
      "Precision: [ 0.99977103  0.3315508 ]\n",
      "Recall: [ 0.99780266  0.82666667]\n",
      "AUROC:  0.912234664042\n",
      "--------------------------\n",
      "Threshold:  0.93\n",
      "Precision: [ 0.99977107  0.35428571]\n",
      "Recall: [ 0.99801361  0.82666667]\n",
      "AUROC:  0.912340136294\n",
      "--------------------------\n",
      "Threshold:  0.94\n",
      "Precision: [ 0.99977112  0.37804878]\n",
      "Recall: [ 0.99820697  0.82666667]\n",
      "AUROC:  0.912436819191\n",
      "--------------------------\n",
      "Threshold:  0.95\n",
      "Precision: [ 0.99975357  0.40397351]\n",
      "Recall: [ 0.99841792  0.81333333]\n",
      "AUROC:  0.905875624777\n",
      "--------------------------\n",
      "Threshold:  0.96\n",
      "Precision: [ 0.9997536   0.42361111]\n",
      "Recall: [ 0.99854097  0.81333333]\n",
      "AUROC:  0.905937150257\n",
      "--------------------------\n",
      "Threshold:  0.97\n",
      "Precision: [ 0.99975363  0.44852941]\n",
      "Recall: [ 0.9986816   0.81333333]\n",
      "AUROC:  0.906007465092\n",
      "--------------------------\n",
      "Threshold:  0.98\n",
      "Precision: [ 0.99975368  0.488     ]\n",
      "Recall: [ 0.99887496  0.81333333]\n",
      "AUROC:  0.906104147989\n",
      "--------------------------\n",
      "Threshold:  0.99\n",
      "Precision: [ 0.99971862  0.5959596 ]\n",
      "Recall: [ 0.99929685  0.78666667]\n",
      "AUROC:  0.89298175916\n",
      "--------------------------\n",
      "Threshold:  1.0\n",
      "Precision: [ 0.99868331  0.        ]\n",
      "Recall: [ 0.99998242  0.        ]\n",
      "AUROC:  0.499991210646\n",
      "--------------------------\n"
     ]
    }
   ],
   "source": [
    "import numpy\n",
    "rnge = numpy.arange(.9,1.01,0.01)\n",
    "for i in rnge:\n",
    "    res = []\n",
    "    for j in range(probabilty.shape[0]):\n",
    "        if(probabilty[j][1]>=i):\n",
    "            res.append(1)\n",
    "        else:\n",
    "            res.append(0)\n",
    "    \n",
    "    prec_rec = precision_recall_fscore_support(test_data.Class.tolist(),res) \n",
    "    print ('Threshold: ',i)\n",
    "    print ('Precision: {}\\nRecall: {}'.format(prec_rec[0],prec_rec[1]))\n",
    "    print ('AUROC: ',roc_auc_score(test_data.Class.tolist(),res))\n",
    "    print ('--------------------------')"
   ]
  },
  {
   "cell_type": "code",
   "execution_count": 29,
   "metadata": {
    "scrolled": true
   },
   "outputs": [
    {
     "name": "stdout",
     "output_type": "stream",
     "text": [
      "Threshold:  0.99\n",
      "Precision: [ 0.99971862  0.5959596 ]\n",
      "Recall: [ 0.99929685  0.78666667]\n",
      "AUROC:  0.89298175916\n",
      "--------------------------\n",
      "Threshold:  0.991\n",
      "Precision: [ 0.99970108  0.63736264]\n",
      "Recall: [ 0.9994199   0.77333333]\n",
      "AUROC:  0.886376617974\n",
      "--------------------------\n",
      "Threshold:  0.992\n",
      "Precision: [ 0.99970108  0.64444444]\n",
      "Recall: [ 0.99943748  0.77333333]\n",
      "AUROC:  0.886385407328\n",
      "--------------------------\n",
      "Threshold:  0.993\n",
      "Precision: [ 0.99970109  0.65168539]\n",
      "Recall: [ 0.99945506  0.77333333]\n",
      "AUROC:  0.886394196682\n",
      "--------------------------\n",
      "Threshold:  0.994\n",
      "Precision: [ 0.99970109  0.65909091]\n",
      "Recall: [ 0.99947264  0.77333333]\n",
      "AUROC:  0.886402986037\n",
      "--------------------------\n",
      "Threshold:  0.995\n",
      "Precision: [ 0.9997011   0.66666667]\n",
      "Recall: [ 0.99949022  0.77333333]\n",
      "AUROC:  0.886411775391\n",
      "--------------------------\n",
      "Threshold:  0.996\n",
      "Precision: [ 0.99970111  0.69047619]\n",
      "Recall: [ 0.99954295  0.77333333]\n",
      "AUROC:  0.886438143454\n",
      "--------------------------\n",
      "Threshold:  0.997\n",
      "Precision: [ 0.99968355  0.7037037 ]\n",
      "Recall: [ 0.99957811  0.76      ]\n",
      "AUROC:  0.879789055496\n",
      "--------------------------\n",
      "Threshold:  0.998\n",
      "Precision: [ 0.99968356  0.72151899]\n",
      "Recall: [ 0.99961327  0.76      ]\n",
      "AUROC:  0.879806634205\n",
      "--------------------------\n",
      "Threshold:  0.999\n",
      "Precision: [ 0.99964842  0.72368421]\n",
      "Recall: [ 0.99963085  0.73333333]\n",
      "AUROC:  0.866482090226\n",
      "--------------------------\n",
      "Threshold:  1.0\n",
      "Precision: [ 0.99868331  0.        ]\n",
      "Recall: [ 0.99998242  0.        ]\n",
      "AUROC:  0.499991210646\n",
      "--------------------------\n"
     ]
    }
   ],
   "source": [
    "import numpy\n",
    "rnge = numpy.arange(.99,1.001,0.001)\n",
    "for i in rnge:\n",
    "    res = []\n",
    "    for j in range(probabilty.shape[0]):\n",
    "        if(probabilty[j][1]>=i):\n",
    "            res.append(1)\n",
    "        else:\n",
    "            res.append(0)\n",
    "    \n",
    "    prec_rec = precision_recall_fscore_support(test_data.Class.tolist(),res) \n",
    "    print ('Threshold: ',i)\n",
    "    print ('Precision: {}\\nRecall: {}'.format(prec_rec[0],prec_rec[1]))\n",
    "    print ('AUROC: ',roc_auc_score(test_data.Class.tolist(),res))\n",
    "    print ('--------------------------')"
   ]
  }
 ],
 "metadata": {
  "kernelspec": {
   "display_name": "Python 3",
   "language": "python",
   "name": "python3"
  },
  "language_info": {
   "codemirror_mode": {
    "name": "ipython",
    "version": 3
   },
   "file_extension": ".py",
   "mimetype": "text/x-python",
   "name": "python",
   "nbconvert_exporter": "python",
   "pygments_lexer": "ipython3",
   "version": "3.6.2"
  }
 },
 "nbformat": 4,
 "nbformat_minor": 2
}
